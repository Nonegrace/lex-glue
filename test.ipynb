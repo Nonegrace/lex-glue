{
 "cells": [
  {
   "cell_type": "code",
   "execution_count": 7,
   "metadata": {},
   "outputs": [
    {
     "name": "stderr",
     "output_type": "stream",
     "text": [
      "/Users/guanxiaoyao/qa/legal/research/lex-glue/.venv/lib/python3.9/site-packages/transformers/tokenization_utils_base.py:1601: FutureWarning: `clean_up_tokenization_spaces` was not set. It will be set to `True` by default. This behavior will be depracted in transformers v4.45, and will be then set to `False` by default. For more details check this issue: https://github.com/huggingface/transformers/issues/31884\n",
      "  warnings.warn(\n"
     ]
    }
   ],
   "source": [
    "from datasets import load_dataset\n",
    "\n",
    "from experiments.casehold_helpers import MultipleChoiceDataset, Split\n",
    "from transformers import (\n",
    "    AutoConfig,\n",
    "    AutoModelForMultipleChoice,\n",
    "    AutoTokenizer,\n",
    "    EarlyStoppingCallback,\n",
    "    EvalPrediction,\n",
    "    HfArgumentParser,\n",
    "    OpenAIGPTDoubleHeadsModel,\n",
    "    Trainer,\n",
    "    TrainingArguments,\n",
    "    set_seed,\n",
    ")\n",
    "\n",
    "model_name = \"openai-gpt\"\n",
    "tokenizer = AutoTokenizer.from_pretrained(\n",
    "        model_name,\n",
    "        cache_dir=None,\n",
    "        # Default fast tokenizer is buggy on CaseHOLD task, switch to legacy tokenizer\n",
    "        use_fast=True,\n",
    "    )\n",
    "\n",
    "train_dataset = MultipleChoiceDataset(\n",
    "            tokenizer=tokenizer,\n",
    "            task=\"case_hold\",\n",
    "            max_seq_length=256,\n",
    "            overwrite_cache=False,\n",
    "            mode=Split.train,\n",
    "        )"
   ]
  },
  {
   "cell_type": "code",
   "execution_count": 20,
   "metadata": {},
   "outputs": [
    {
     "data": {
      "text/plain": [
       "45000"
      ]
     },
     "execution_count": 20,
     "metadata": {},
     "output_type": "execute_result"
    }
   ],
   "source": [
    "len(train_dataset)"
   ]
  },
  {
   "cell_type": "code",
   "execution_count": 21,
   "metadata": {},
   "outputs": [
    {
     "data": {
      "text/plain": [
       "experiments.casehold_helpers.InputFeatures"
      ]
     },
     "execution_count": 21,
     "metadata": {},
     "output_type": "execute_result"
    }
   ],
   "source": [
    "type(train_dataset[0])"
   ]
  },
  {
   "cell_type": "code",
   "execution_count": 29,
   "metadata": {},
   "outputs": [
    {
     "name": "stdout",
     "output_type": "stream",
     "text": [
      "5\n",
      "256\n",
      "5\n",
      "256\n"
     ]
    }
   ],
   "source": [
    "print(len(train_dataset[0].attention_mask))\n",
    "print(len(train_dataset[0].attention_mask[0]))\n",
    "print(len(train_dataset[0].input_ids))\n",
    "print(len(train_dataset[0].input_ids[0]))\n",
    "if train_dataset[0].token_type_ids:\n",
    "    print(len(train_dataset[0].token_type_ids))\n",
    "    print(len(train_dataset[0].token_type_ids[0]))"
   ]
  },
  {
   "cell_type": "code",
   "execution_count": 27,
   "metadata": {},
   "outputs": [
    {
     "name": "stdout",
     "output_type": "stream",
     "text": [
      "5\n",
      "256\n"
     ]
    }
   ],
   "source": []
  },
  {
   "cell_type": "code",
   "execution_count": null,
   "metadata": {},
   "outputs": [],
   "source": []
  }
 ],
 "metadata": {
  "kernelspec": {
   "display_name": ".venv",
   "language": "python",
   "name": "python3"
  },
  "language_info": {
   "codemirror_mode": {
    "name": "ipython",
    "version": 3
   },
   "file_extension": ".py",
   "mimetype": "text/x-python",
   "name": "python",
   "nbconvert_exporter": "python",
   "pygments_lexer": "ipython3",
   "version": "3.9.17"
  }
 },
 "nbformat": 4,
 "nbformat_minor": 2
}
